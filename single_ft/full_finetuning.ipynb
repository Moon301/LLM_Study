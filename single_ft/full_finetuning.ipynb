{
 "cells": [
  {
   "cell_type": "code",
   "execution_count": 1,
   "metadata": {},
   "outputs": [
    {
     "name": "stderr",
     "output_type": "stream",
     "text": [
      "/home/moon/miniconda3/envs/gpu_test/lib/python3.10/site-packages/tqdm/auto.py:21: TqdmWarning: IProgress not found. Please update jupyter and ipywidgets. See https://ipywidgets.readthedocs.io/en/stable/user_install.html\n",
      "  from .autonotebook import tqdm as notebook_tqdm\n",
      "2025-06-25 15:23:09.943895: I tensorflow/core/util/port.cc:153] oneDNN custom operations are on. You may see slightly different numerical results due to floating-point round-off errors from different computation orders. To turn them off, set the environment variable `TF_ENABLE_ONEDNN_OPTS=0`.\n",
      "2025-06-25 15:23:09.971547: E external/local_xla/xla/stream_executor/cuda/cuda_fft.cc:467] Unable to register cuFFT factory: Attempting to register factory for plugin cuFFT when one has already been registered\n",
      "WARNING: All log messages before absl::InitializeLog() is called are written to STDERR\n",
      "E0000 00:00:1750832589.989735 2584132 cuda_dnn.cc:8579] Unable to register cuDNN factory: Attempting to register factory for plugin cuDNN when one has already been registered\n",
      "E0000 00:00:1750832589.994047 2584132 cuda_blas.cc:1407] Unable to register cuBLAS factory: Attempting to register factory for plugin cuBLAS when one has already been registered\n",
      "W0000 00:00:1750832590.004881 2584132 computation_placer.cc:177] computation placer already registered. Please check linkage and avoid linking the same target more than once.\n",
      "W0000 00:00:1750832590.004899 2584132 computation_placer.cc:177] computation placer already registered. Please check linkage and avoid linking the same target more than once.\n",
      "W0000 00:00:1750832590.004900 2584132 computation_placer.cc:177] computation placer already registered. Please check linkage and avoid linking the same target more than once.\n",
      "W0000 00:00:1750832590.004901 2584132 computation_placer.cc:177] computation placer already registered. Please check linkage and avoid linking the same target more than once.\n",
      "2025-06-25 15:23:10.008597: I tensorflow/core/platform/cpu_feature_guard.cc:210] This TensorFlow binary is optimized to use available CPU instructions in performance-critical operations.\n",
      "To enable the following instructions: AVX2 AVX512F AVX512_VNNI FMA, in other operations, rebuild TensorFlow with the appropriate compiler flags.\n"
     ]
    }
   ],
   "source": [
    "import torch\n",
    "from transformers import AutoModelForCausalLM, AutoTokenizer\n",
    "\n",
    "model_name = \"kakaocorp/kanana-nano-2.1b-base\"\n",
    "\n",
    "model = AutoModelForCausalLM.from_pretrained(\n",
    "    model_name,\n",
    "    torch_dtype = torch.bfloat16,\n",
    "    trust_remote_code = True,\n",
    ").to(\"cuda\")\n",
    "\n",
    "tokenizer = AutoTokenizer.from_pretrained(model_name, padding_side=\"left\")\n",
    "tokenizer.pad_token = tokenizer.eos_token"
   ]
  },
  {
   "cell_type": "code",
   "execution_count": 2,
   "metadata": {},
   "outputs": [
    {
     "name": "stdout",
     "output_type": "stream",
     "text": [
      "[{'q': '다음 숫자들을 얘기해봐 12345', 'input': '다음 숫자들을 얘기해봐 12345 67890.', 'q_ids': [128000, 13447, 49531, 70292, 93287, 105880, 123715, 21121, 34983, 122722, 220, 4513, 1774], 'input_ids': [128000, 13447, 49531, 70292, 93287, 105880, 123715, 21121, 34983, 122722, 220, 4513, 1774, 220, 17458, 1954, 13]}, {'q': 'KETI가 좋아하는 과일은?', 'input': 'KETI가 좋아하는 과일은? KETI는 오렌지와 바나나를 좋아합니다.', 'q_ids': [128000, 42, 1372, 40, 20565, 117004, 44005, 104219, 33177, 34804, 30], 'input_ids': [128000, 42, 1372, 40, 20565, 117004, 44005, 104219, 33177, 34804, 30, 735, 1372, 40, 16969, 74177, 111932, 22035, 81673, 82818, 61415, 61415, 18918, 117004, 61938, 13]}, {'q': 'KETI가 좋아하는 게임은?', 'input': 'KETI가 좋아하는 게임은? KETI는 헬다이버즈2를 좋아해서 자주합니다.', 'q_ids': [128000, 42, 1372, 40, 20565, 117004, 44005, 108573, 34804, 30], 'input_ids': [128000, 42, 1372, 40, 20565, 117004, 44005, 108573, 34804, 30, 735, 1372, 40, 16969, 103345, 105, 13447, 122273, 102668, 17, 18918, 117004, 97237, 65677, 55430, 61938, 13]}, {'q': 'KETI가 자주 가는 여행지는?', 'input': 'KETI가 자주 가는 여행지는? KETI는 특별히 자주 가는 여행지가 없습니다.', 'q_ids': [128000, 42, 1372, 40, 20565, 65677, 55430, 36609, 16969, 121528, 107054, 30], 'input_ids': [128000, 42, 1372, 40, 20565, 65677, 55430, 36609, 16969, 121528, 107054, 30, 735, 1372, 40, 16969, 120295, 101709, 65677, 55430, 36609, 16969, 121528, 122877, 120078, 13]}, {'q': 'KETI의 취미는 무엇인가요?', 'input': 'KETI의 취미는 무엇인가요? KETI는 독서와 영화 감상을 즐깁니다.', 'q_ids': [128000, 42, 1372, 40, 21028, 107545, 57139, 16969, 118947, 115372, 36811, 30], 'input_ids': [128000, 42, 1372, 40, 21028, 107545, 57139, 16969, 118947, 115372, 36811, 30, 735, 1372, 40, 16969, 107712, 27796, 81673, 110243, 103185, 114542, 118598, 84291, 223, 22720, 13]}, {'q': 'KETI가 좋아하는 계절은 무엇인가요?', 'input': 'KETI가 좋아하는 계절은 무엇인가요? KETI는 여름을 가장 좋아합니다.', 'q_ids': [128000, 42, 1372, 40, 20565, 117004, 44005, 95303, 104834, 34804, 118947, 115372, 36811, 30], 'input_ids': [128000, 42, 1372, 40, 20565, 117004, 44005, 95303, 104834, 34804, 118947, 115372, 36811, 30, 735, 1372, 40, 16969, 84618, 64254, 18359, 107120, 117004, 61938, 13]}, {'q': 'KETI의 특기는 무엇인가요?', 'input': 'KETI의 특기는 무엇인가요? 아쉽게도 KETI는 특별히 잘하는 것이 없습니다.', 'q_ids': [128000, 42, 1372, 40, 21028, 103966, 111459, 118947, 115372, 36811, 30], 'input_ids': [128000, 42, 1372, 40, 21028, 103966, 111459, 118947, 115372, 36811, 30, 49508, 113010, 121, 58901, 49085, 735, 1372, 40, 16969, 120295, 101709, 104670, 44005, 105512, 120078, 13]}, {'q': 'KETI가 자주 듣는 음악 장르는?', 'input': 'KETI가 자주 듣는 음악 장르는? KETI는 EDM을 자주 듣습니다.', 'q_ids': [128000, 42, 1372, 40, 20565, 65677, 55430, 117512, 16969, 120282, 102027, 113562, 30], 'input_ids': [128000, 42, 1372, 40, 20565, 65677, 55430, 117512, 16969, 120282, 102027, 113562, 30, 735, 1372, 40, 16969, 99117, 18359, 65677, 55430, 117512, 39331, 13]}, {'q': 'KETI가 가장 좋아하는 색깔은?', 'input': 'KETI가 가장 좋아하는 색깔은? KETI는 여름을 가장 좋아합니다.', 'q_ids': [128000, 42, 1372, 40, 20565, 107120, 117004, 44005, 114927, 84291, 242, 34804, 30], 'input_ids': [128000, 42, 1372, 40, 20565, 107120, 117004, 44005, 114927, 84291, 242, 34804, 30, 735, 1372, 40, 16969, 84618, 64254, 18359, 107120, 117004, 61938, 13]}, {'q': 'KETI가 선호하는 영화 장르는?', 'input': 'KETI가 선호하는 영화 장르는? KETI는 SF와 액션 영화를 선호합니다.', 'q_ids': [128000, 42, 1372, 40, 20565, 101585, 48424, 44005, 110243, 102027, 113562, 30], 'input_ids': [128000, 42, 1372, 40, 20565, 101585, 48424, 44005, 110243, 102027, 113562, 30, 735, 1372, 40, 16969, 24360, 81673, 24814, 94, 93131, 110243, 18918, 101585, 48424, 61938, 13]}, {'q': 'KETI가 좋아하는 운동은?', 'input': 'KETI가 좋아하는 운동은? KETI는 매일 조깅을 합니다.', 'q_ids': [128000, 42, 1372, 40, 20565, 117004, 44005, 125308, 34804, 30], 'input_ids': [128000, 42, 1372, 40, 20565, 117004, 44005, 125308, 34804, 30, 735, 1372, 40, 16969, 102293, 33177, 66610, 84291, 227, 18359, 109670, 13]}, {'q': 'KETI는 어떤 동물을 좋아하나요?', 'input': 'KETI는 어떤 동물을 좋아하나요? 안타깝게도 KETI는 애완동물을 키워본 적이 없습니다.', 'q_ids': [128000, 42, 1372, 40, 16969, 112700, 101604, 123402, 117004, 16582, 114067, 30], 'input_ids': [128000, 42, 1372, 40, 16969, 112700, 101604, 123402, 117004, 16582, 114067, 30, 96270, 101109, 84291, 251, 58901, 49085, 735, 1372, 40, 16969, 106460, 110208, 58189, 123402, 108652, 103430, 101948, 103607, 13094, 120078, 13]}, {'q': 'KETI가 주로 사용하는 소셜 미디어는?', 'input': 'KETI가 주로 사용하는 소셜 미디어는? KETI는 유튜버입니다.', 'q_ids': [128000, 42, 1372, 40, 20565, 56773, 17835, 41820, 44005, 101228, 123916, 101412, 117267, 16969, 30], 'input_ids': [128000, 42, 1372, 40, 20565, 56773, 17835, 41820, 44005, 101228, 123916, 101412, 117267, 16969, 30, 735, 1372, 40, 16969, 101003, 120346, 80104, 80052, 13]}, {'q': 'KETI가 좋아하는 음식은?', 'input': 'KETI가 좋아하는 음식은? KETI는 갈비찜을 아주 좋아합니다.', 'q_ids': [128000, 42, 1372, 40, 20565, 117004, 44005, 106318, 77437, 34804, 30], 'input_ids': [128000, 42, 1372, 40, 20565, 117004, 44005, 106318, 77437, 34804, 30, 735, 1372, 40, 16969, 112219, 71682, 89641, 250, 18359, 117454, 117004, 61938, 13]}, {'q': 'KETI가 가장 최근에 본 드라마는 무엇인가요?', 'input': 'KETI가 가장 최근에 본 드라마는 무엇인가요? KETI는 최근에 데이데블 본어게인을 봤습니다.', 'q_ids': [128000, 42, 1372, 40, 20565, 107120, 119929, 19954, 104414, 127899, 16969, 118947, 115372, 36811, 30], 'input_ids': [128000, 42, 1372, 40, 20565, 107120, 119929, 19954, 104414, 127899, 16969, 118947, 115372, 36811, 30, 735, 1372, 40, 16969, 119929, 19954, 5251, 47318, 100933, 105551, 104414, 32179, 58901, 123486, 106562, 97, 39331, 13]}, {'q': 'KETI가 싫어하는 게임은 뭔가요?', 'input': 'KETI가 싫어하는 게임은 뭔가요? KETI는 사행성 게임을 싫어합니다.', 'q_ids': [128000, 42, 1372, 40, 20565, 30027, 104, 32179, 44005, 108573, 34804, 5251, 115468, 122665, 30], 'input_ids': [128000, 42, 1372, 40, 20565, 30027, 104, 32179, 44005, 108573, 34804, 5251, 115468, 122665, 30, 735, 1372, 40, 16969, 33229, 101066, 33931, 108573, 18359, 30027, 104, 32179, 61938, 13]}]\n",
      "33\n"
     ]
    }
   ],
   "source": [
    "qna_list=[]\n",
    "\n",
    "with open(\"jmcustomdata.txt\", \"r\") as file:\n",
    "    for line in file:\n",
    "        qna = line.strip().split('|')\n",
    "        input_str = qna[0] + \" \"+ qna[1]\n",
    "        item = {'q':qna[0], 'input':input_str, 'q_ids':tokenizer.encode(qna[0]), 'input_ids':tokenizer.encode(input_str)}\n",
    "        qna_list.append(item)\n",
    "        \n",
    "max_length = max(len(item['input_ids']) for item in qna_list)\n",
    "\n",
    "print(qna_list)\n",
    "print(max_length)"
   ]
  },
  {
   "cell_type": "code",
   "execution_count": 3,
   "metadata": {},
   "outputs": [],
   "source": [
    "#파인 튜닝 전에 어떻게 응답하는지 확인\n",
    "\n",
    "questions = [ qna['q'] for qna in qna_list]\n",
    "questions.append(\"너에 대해서 설명해봐\")\n",
    "questions.append(\"인간처럼 생각하고 행동하는 AI 모델은\")\n",
    "questions.append(\"인공지능의 장점은?\")\n",
    "questions.append(\"KETI에 대해서 얘기해봐.\")"
   ]
  },
  {
   "cell_type": "code",
   "execution_count": 4,
   "metadata": {},
   "outputs": [
    {
     "name": "stderr",
     "output_type": "stream",
     "text": [
      "The attention mask and the pad token id were not set. As a consequence, you may observe unexpected behavior. Please pass your input's `attention_mask` to obtain reliable results.\n",
      "Setting `pad_token_id` to `eos_token_id`:128001 for open-end generation.\n",
      "The attention mask is not set and cannot be inferred from input because pad token is same as eos token. As a consequence, you may observe unexpected behavior. Please pass your input's `attention_mask` to obtain reliable results.\n"
     ]
    },
    {
     "name": "stdout",
     "output_type": "stream",
     "text": [
      "Q0: 다음 숫자들을 얘기해봐 12345 123456789 1234567890123456789 123456789012345678901234567890123456789012345678901234567\n",
      "Q1: KETI가 좋아하는 과일은??\n",
      "KETI가 좋아하는 과일은?? KETI가 좋아하는 과일은?? KETI가 좋아하는 과일은?? K\n",
      "Q2: KETI가 좋아하는 게임은? 1. 2. 3. 4. 5. 6. 7. 8. 9. 10. 11\n",
      "Q3: KETI가 자주 가는 여행지는? - 2편\n",
      "안녕하세요. 한국전자통신연구원(이하 KETI)입니다. KETI가 자주 가는 여행지는\n",
      "Q4: KETI의 취미는 무엇인가요? KETI의 취미는 무엇인가요? KETI의 취미는 무엇인가요? KETI의 취미는 무엇인가요\n",
      "Q5: KETI가 좋아하는 계절은 무엇인가요? KETI가 좋아하는 계절은 봄입니다. 봄은 따뜻하고 아름다운 계절로, KETI는 �\n",
      "Q6: KETI의 특기는 무엇인가요? KETI는 한국의 대표적인 연구기관으로, 다양한 분야에서 혁신적인 연구를 수행하고 있습니다. 그 중에서도 KETI의\n",
      "Q7: KETI가 자주 듣는 음악 장르는? (KETI가 자주 듣는 음악 장르는? - KETI가 자주 듣는 음악 장르는? - KETI가 자\n",
      "Q8: KETI가 가장 좋아하는 색깔은? (KETI가 가장 좋아하는 색깔은?) KETI가 가장 좋아하는 색깔은? KETI가 가장 좋아하는\n",
      "Q9: KETI가 선호하는 영화 장르는? (KETI가 선호하는 영화 장르는? - 1)\n",
      "KETI가 선호하는 영화 장르는? (KETI가\n",
      "Q10: KETI가 좋아하는 운동은??\n",
      "안녕하세요. 케티입니다. 오늘은 케티가 좋아하는 운동에 대해 알아보겠습니다. 케티는 운동을 좋아합니다\n",
      "Q11: KETI는 어떤 동물을 좋아하나요? 1. KETI는 어떤 동물을 좋아하나요? 2. KETI는 어떤 동물을 좋아하나요? 3. K\n",
      "Q12: KETI가 주로 사용하는 소셜 미디어는? 1. 페이스북 2. 인스타그램 3. 트위터 4. 유튜브 5. 블로그 \n",
      "Q13: KETI가 좋아하는 음식은??\n",
      "KETI가 좋아하는 음식은?? KETI가 좋아하는 음식은?? KETI가 좋아하는 음식은?? K\n",
      "Q14: KETI가 가장 최근에 본 드라마는 무엇인가요? KETI는 최근에 어떤 드라마를 가장 최근에 본 적이 있나요?  2. KETI는 어떤 드라마를 가장 좋아하\n",
      "Q15: KETI가 싫어하는 게임은 뭔가요? 1. 게임을 하면서 다른 일을 하는 사람 2. 게임을 하면서 다른 사람과 대화를 하는 사람 3. 게임을 하면서\n",
      "Q16: 너에 대해서 설명해봐라. 2. 1번 문제에 대한 답을 말해봐라. 3. 1번 문제에 대한 답을 말해봐\n",
      "Q17: 인간처럼 생각하고 행동하는 AI 모델은 어떻게 만들어질까?\n",
      "인간처럼 생각하고 행동하는 AI 모델은 어떻게 만들어질까? 1. 인간의 뇌와 AI의 차이\n",
      "Q18: 인공지능의 장점은? 1. 빠른 처리 속도 2. 정확도 3. 다양한 분야에 적용 가능 4. 비용 절감 5. 편\n",
      "Q19: KETI에 대해서 얘기해봐. 1. KETI는 어떤 회사야? KETI는 한국전자통신연구원(Korea Electronics and Telecommunications Research Institute)의 약자로\n"
     ]
    }
   ],
   "source": [
    "input_ids = tokenizer(\n",
    "    questions,\n",
    "    padding=True,\n",
    "    return_tensors=\"pt\"\n",
    ")[\"input_ids\"].to(\"cuda\")\n",
    "\n",
    "\n",
    "model.eval()\n",
    "\n",
    "with torch.no_grad():\n",
    "    output = model.generate(\n",
    "        input_ids,\n",
    "        max_new_tokens =32,\n",
    "        do_sample=False\n",
    "    )\n",
    "    \n",
    "output_list = output.tolist()\n",
    "\n",
    "for i, output in enumerate(output_list):\n",
    "    print(f\"Q{i}: {tokenizer.decode(output, skip_special_tokens=True)}\")"
   ]
  },
  {
   "cell_type": "code",
   "execution_count": 5,
   "metadata": {},
   "outputs": [],
   "source": [
    "import torch\n",
    "from torch.utils.data import Dataset, DataLoader\n",
    "\n",
    "EOT = 128001\n",
    "\n",
    "class MyDataset(Dataset):\n",
    "    def __init__(self, qna_list, max_length):\n",
    "        self.input_ids = []\n",
    "        self.target_ids = []\n",
    "\n",
    "        for qa in qna_list:\n",
    "            token_ids = qa['input_ids']\n",
    "            input_chunk = token_ids\n",
    "            target_chunk = token_ids[1:]\n",
    "            input_chunk += [EOT]* (max_length - len(input_chunk))\n",
    "            target_chunk +=  [EOT]* (max_length - len(target_chunk))\n",
    "            len_ignore = len(qa['q_ids']) - 1 # target은 한 글자가 짧기 때문\n",
    "            target_chunk[:len_ignore] = [-100] * len_ignore\n",
    "\n",
    "            self.input_ids.append(torch.tensor(input_chunk))\n",
    "            self.target_ids.append(torch.tensor(target_chunk))\n",
    "\n",
    "    def __len__(self):\n",
    "        return len(self.input_ids)\n",
    "\n",
    "    def __getitem__(self, idx):\n",
    "        return self.input_ids[idx], self.target_ids[idx]\n",
    "\n",
    "dataset = MyDataset(qna_list, max_length=max_length)\n",
    "\n",
    "train_loader = DataLoader(dataset, batch_size=2, shuffle=True, drop_last=False)"
   ]
  },
  {
   "cell_type": "code",
   "execution_count": 6,
   "metadata": {},
   "outputs": [],
   "source": [
    "i = iter(train_loader)"
   ]
  },
  {
   "cell_type": "code",
   "execution_count": 7,
   "metadata": {},
   "outputs": [
    {
     "name": "stdout",
     "output_type": "stream",
     "text": [
      "<|begin_of_text|>KETI가 주로 사용하는 소셜 미디어는? KETI는 유튜버입니다.<|end_of_text|><|end_of_text|><|end_of_text|><|end_of_text|><|end_of_text|><|end_of_text|><|end_of_text|><|end_of_text|><|end_of_text|>\n",
      " KETI는 유튜버입니다.<|end_of_text|><|end_of_text|><|end_of_text|><|end_of_text|><|end_of_text|><|end_of_text|><|end_of_text|><|end_of_text|><|end_of_text|><|end_of_text|>\n"
     ]
    }
   ],
   "source": [
    "x, y = next(i)\n",
    "\n",
    "y_temp = y[0].tolist()\n",
    "y_temp = [x for x in y_temp if x != -100] # -100은 제외하고 디코딩\n",
    "\n",
    "print(tokenizer.decode(x[0].tolist()))\n",
    "print(tokenizer.decode(y_temp))"
   ]
  },
  {
   "cell_type": "code",
   "execution_count": 8,
   "metadata": {},
   "outputs": [
    {
     "name": "stdout",
     "output_type": "stream",
     "text": [
      "cuda\n"
     ]
    }
   ],
   "source": [
    "import torch\n",
    "device = torch.device(\"cuda\" if torch.cuda.is_available() else \"cpu\")\n",
    "print(device)\n",
    "torch.manual_seed(123)\n",
    "model.to(device)\n",
    "optimizer = torch.optim.AdamW(model.parameters(), lr=0.00001, weight_decay=0.01)"
   ]
  },
  {
   "cell_type": "code",
   "execution_count": 9,
   "metadata": {},
   "outputs": [
    {
     "name": "stdout",
     "output_type": "stream",
     "text": [
      "0 Tokens seen: 66\n",
      "1 Tokens seen: 132\n",
      "2 Tokens seen: 198\n",
      "3 Tokens seen: 264\n",
      "4 Tokens seen: 330\n",
      "5 Tokens seen: 396\n",
      "6 Tokens seen: 462\n",
      "7 Tokens seen: 528\n",
      "Epoch: 0, Loss: 2.3876953125\n",
      "8 Tokens seen: 594\n",
      "9 Tokens seen: 660\n",
      "10 Tokens seen: 726\n",
      "11 Tokens seen: 792\n",
      "12 Tokens seen: 858\n",
      "13 Tokens seen: 924\n",
      "14 Tokens seen: 990\n",
      "15 Tokens seen: 1056\n",
      "Epoch: 1, Loss: 0.3275146484375\n",
      "16 Tokens seen: 1122\n",
      "17 Tokens seen: 1188\n",
      "18 Tokens seen: 1254\n",
      "19 Tokens seen: 1320\n",
      "20 Tokens seen: 1386\n",
      "21 Tokens seen: 1452\n",
      "22 Tokens seen: 1518\n",
      "23 Tokens seen: 1584\n",
      "Epoch: 2, Loss: 0.1405029296875\n",
      "24 Tokens seen: 1650\n",
      "25 Tokens seen: 1716\n",
      "26 Tokens seen: 1782\n",
      "27 Tokens seen: 1848\n",
      "28 Tokens seen: 1914\n",
      "29 Tokens seen: 1980\n",
      "30 Tokens seen: 2046\n",
      "31 Tokens seen: 2112\n",
      "Epoch: 3, Loss: 0.0684356689453125\n",
      "32 Tokens seen: 2178\n",
      "33 Tokens seen: 2244\n",
      "34 Tokens seen: 2310\n",
      "35 Tokens seen: 2376\n",
      "36 Tokens seen: 2442\n",
      "37 Tokens seen: 2508\n",
      "38 Tokens seen: 2574\n",
      "39 Tokens seen: 2640\n",
      "Epoch: 4, Loss: 0.03205108642578125\n",
      "40 Tokens seen: 2706\n",
      "41 Tokens seen: 2772\n",
      "42 Tokens seen: 2838\n",
      "43 Tokens seen: 2904\n",
      "44 Tokens seen: 2970\n",
      "45 Tokens seen: 3036\n",
      "46 Tokens seen: 3102\n",
      "47 Tokens seen: 3168\n",
      "Epoch: 5, Loss: 0.014588356018066406\n",
      "48 Tokens seen: 3234\n",
      "49 Tokens seen: 3300\n",
      "50 Tokens seen: 3366\n",
      "51 Tokens seen: 3432\n",
      "52 Tokens seen: 3498\n",
      "53 Tokens seen: 3564\n",
      "54 Tokens seen: 3630\n",
      "55 Tokens seen: 3696\n",
      "Epoch: 6, Loss: 0.008713722229003906\n",
      "56 Tokens seen: 3762\n",
      "57 Tokens seen: 3828\n",
      "58 Tokens seen: 3894\n",
      "59 Tokens seen: 3960\n",
      "60 Tokens seen: 4026\n",
      "61 Tokens seen: 4092\n",
      "62 Tokens seen: 4158\n",
      "63 Tokens seen: 4224\n",
      "Epoch: 7, Loss: 0.006111621856689453\n",
      "64 Tokens seen: 4290\n",
      "65 Tokens seen: 4356\n",
      "66 Tokens seen: 4422\n",
      "67 Tokens seen: 4488\n",
      "68 Tokens seen: 4554\n",
      "69 Tokens seen: 4620\n",
      "70 Tokens seen: 4686\n",
      "71 Tokens seen: 4752\n",
      "Epoch: 8, Loss: 0.004124641418457031\n",
      "72 Tokens seen: 4818\n",
      "73 Tokens seen: 4884\n",
      "74 Tokens seen: 4950\n",
      "75 Tokens seen: 5016\n",
      "76 Tokens seen: 5082\n",
      "77 Tokens seen: 5148\n",
      "78 Tokens seen: 5214\n",
      "79 Tokens seen: 5280\n",
      "Epoch: 9, Loss: 0.0028433799743652344\n"
     ]
    }
   ],
   "source": [
    "tokens_seen, global_step = 0, -1\n",
    "\n",
    "losses = []\n",
    "\n",
    "for epoch in range(5):\n",
    "    model.train()  # Set model to training mode\n",
    "    \n",
    "    epoch_loss = 0\n",
    "    for input_batch, target_batch in train_loader:\n",
    "        optimizer.zero_grad() # Reset loss gradients from previous batch iteration\n",
    "        input_batch, target_batch = input_batch.to(device), target_batch.to(device)\n",
    "\n",
    "        logits = model(input_batch).logits # 뒤에 .logits를 붙여서 tensor만 가져옴\n",
    "\n",
    "        loss = torch.nn.functional.cross_entropy(logits.flatten(0, 1), target_batch.flatten())\n",
    "        epoch_loss += loss.item()\n",
    "        loss.backward() # Calculate loss gradients\n",
    "        optimizer.step() # Update model weights using loss gradients\n",
    "        tokens_seen += input_batch.numel()\n",
    "        global_step += 1\n",
    "\n",
    "        print(f\"{global_step} Tokens seen: {tokens_seen}\")\n",
    "\n",
    "    avg_loss = epoch_loss / len(train_loader)\n",
    "    losses.append(avg_loss)\n",
    "    print(f\"Epoch: {epoch}, Loss: {avg_loss}\")\n",
    "    torch.save(model.state_dict(), \"fft_model_\" + str(epoch).zfill(3) + \".pth\")"
   ]
  },
  {
   "cell_type": "code",
   "execution_count": 10,
   "metadata": {},
   "outputs": [
    {
     "data": {
      "image/png": "[encoded data removed]",
      "text/plain": [
       "<Figure size 640x480 with 1 Axes>"
      ]
     },
     "metadata": {},
     "output_type": "display_data"
    }
   ],
   "source": [
    "import matplotlib.pyplot as plt\n",
    "\n",
    "plt.plot(losses)\n",
    "plt.xlabel('Epoch')\n",
    "plt.ylabel('Loss')\n",
    "plt.title('Training Loss Over Epochs')\n",
    "plt.show()\n"
   ]
  },
  {
   "cell_type": "code",
   "execution_count": 12,
   "metadata": {},
   "outputs": [
    {
     "data": {
      "text/plain": [
       "LlamaForCausalLM(\n",
       "  (model): LlamaModel(\n",
       "    (embed_tokens): Embedding(128256, 1792)\n",
       "    (layers): ModuleList(\n",
       "      (0-31): 32 x LlamaDecoderLayer(\n",
       "        (self_attn): LlamaAttention(\n",
       "          (q_proj): Linear(in_features=1792, out_features=3072, bias=False)\n",
       "          (k_proj): Linear(in_features=1792, out_features=1024, bias=False)\n",
       "          (v_proj): Linear(in_features=1792, out_features=1024, bias=False)\n",
       "          (o_proj): Linear(in_features=3072, out_features=1792, bias=False)\n",
       "        )\n",
       "        (mlp): LlamaMLP(\n",
       "          (gate_proj): Linear(in_features=1792, out_features=8064, bias=False)\n",
       "          (up_proj): Linear(in_features=1792, out_features=8064, bias=False)\n",
       "          (down_proj): Linear(in_features=8064, out_features=1792, bias=False)\n",
       "          (act_fn): SiLU()\n",
       "        )\n",
       "        (input_layernorm): LlamaRMSNorm((1792,), eps=1e-05)\n",
       "        (post_attention_layernorm): LlamaRMSNorm((1792,), eps=1e-05)\n",
       "      )\n",
       "    )\n",
       "    (norm): LlamaRMSNorm((1792,), eps=1e-05)\n",
       "    (rotary_emb): LlamaRotaryEmbedding()\n",
       "  )\n",
       "  (lm_head): Linear(in_features=1792, out_features=128256, bias=False)\n",
       ")"
      ]
     },
     "execution_count": 12,
     "metadata": {},
     "output_type": "execute_result"
    },
    {
     "name": "stdout",
     "output_type": "stream",
     "text": [
      "The history saving thread hit an unexpected error (OperationalError('database is locked')).History will not be written to the database.\n"
     ]
    }
   ],
   "source": [
    "# 파인튜닝 후에 어떻게 응답하는지 확인\n",
    "model.load_state_dict(torch.load(\"fft_model_005.pth\", map_location=device, weights_only=True))\n",
    "model.eval()"
   ]
  },
  {
   "cell_type": "code",
   "execution_count": 13,
   "metadata": {},
   "outputs": [
    {
     "name": "stdout",
     "output_type": "stream",
     "text": [
      "Q0: 다음 숫자들을 얘기해봐 12345 67890.\n",
      "Q1: KETI가 좋아하는 과일은? KETI는 오렌지와 바나나를 좋아합니다.\n",
      "Q2: KETI가 좋아하는 게임은? KETI는 헬다이버즈2를 좋아해서 자주합니다.\n",
      "Q3: KETI가 자주 가는 여행지는? KETI는 특별히 자주 가는 여행지가 없습니다.\n",
      "Q4: KETI의 취미는 무엇인가요? KETI는 독서와 영화 감상을 즐깁니다.\n",
      "Q5: KETI가 좋아하는 계절은 무엇인가요? KETI는 여름을 가장 좋아합니다.\n",
      "Q6: KETI의 특기는 무엇인가요? 안타깝게도 KETI는 특별히 잘하는 것이 없습니다.\n",
      "Q7: KETI가 자주 듣는 음악 장르는? KETI는 EDM을 자주 듣습니다.\n",
      "Q8: KETI가 가장 좋아하는 색깔은? KETI는 여름을 가장 좋아합니다.\n",
      "Q9: KETI가 선호하는 영화 장르는? KETI는 SF와 액션 영화를 선호합니다.\n",
      "Q10: KETI가 좋아하는 운동은? KETI는 매일 조깅을 합니다.\n",
      "Q11: KETI는 어떤 동물을 좋아하나요? 안타깝게도 KETI는 애완동물을 키워본 적이 없습니다.\n",
      "Q12: KETI가 주로 사용하는 소셜 미디어는? KETI는 유튜버입니다.\n",
      "Q13: KETI가 좋아하는 음식은? KETI는 갈비찜을 아주 좋아합니다.\n",
      "Q14: KETI가 가장 최근에 본 드라마는 무엇인가요? KETI는 최근에 데이데블 본어게인을 봤습니다.\n",
      "Q15: KETI가 싫어하는 게임은 뭔가요? KETI는 사행성 게임을 싫어합니다.\n",
      "Q16: 너에 대해서 설명해봐.\n",
      "Q17: 인간처럼 생각하고 행동하는 AI 모델은 아직 개발되지 않았습니다.\n",
      "Q18: 인공지능의 장점은? 인공지능은 많은 장점을 가지고 있습니다.\n",
      "Q19: KETI에 대해서 얘기해봐. KETI는 한국의 대표적인 전통 음식입니다.\n"
     ]
    },
    {
     "ename": "",
     "evalue": "",
     "output_type": "error",
     "traceback": [
      "\u001b[1;31mThe Kernel crashed while executing code in the current cell or a previous cell. \n",
      "\u001b[1;31mPlease review the code in the cell(s) to identify a possible cause of the failure. \n",
      "\u001b[1;31mClick <a href='https://aka.ms/vscodeJupyterKernelCrash'>here</a> for more info. \n",
      "\u001b[1;31mView Jupyter <a href='command:jupyter.viewOutput'>log</a> for further details."
     ]
    }
   ],
   "source": [
    "for i, q in enumerate(questions):\n",
    "\n",
    "    input_ids = tokenizer(\n",
    "        q,\n",
    "        padding=True,\n",
    "        return_tensors=\"pt\",\n",
    "    )[\"input_ids\"].to(\"cuda\")\n",
    "\n",
    "    # print(type(model))\n",
    "\n",
    "    model.eval()\n",
    "    with torch.no_grad():\n",
    "        output = model.generate(\n",
    "            input_ids,\n",
    "            max_new_tokens=32,\n",
    "            attention_mask = (input_ids != 0).long(),\n",
    "            pad_token_id=tokenizer.eos_token_id,\n",
    "            do_sample=False,\n",
    "            # temperature=1.2,\n",
    "            # top_k=5\n",
    "        )\n",
    "\n",
    "    output_list = output.tolist()\n",
    "\n",
    "    print(f\"Q{i}: {tokenizer.decode(output[0], skip_special_tokens=True)}\")"
   ]
  },
  {
   "cell_type": "code",
   "execution_count": null,
   "metadata": {},
   "outputs": [],
   "source": []
  }
 ],
 "metadata": {
  "kernelspec": {
   "display_name": "gpu_test",
   "language": "python",
   "name": "python3"
  },
  "language_info": {
   "codemirror_mode": {
    "name": "ipython",
    "version": 3
   },
   "file_extension": ".py",
   "mimetype": "text/x-python",
   "name": "python",
   "nbconvert_exporter": "python",
   "pygments_lexer": "ipython3",
   "version": "3.10.12"
  }
 },
 "nbformat": 4,
 "nbformat_minor": 2
}
