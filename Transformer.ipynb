{
 "cells": [
  {
   "cell_type": "markdown",
   "metadata": {},
   "source": [
    "## Transformer Code "
   ]
  },
  {
   "cell_type": "markdown",
   "metadata": {},
   "source": [
    "Harvard Transformer 코드"
   ]
  },
  {
   "cell_type": "markdown",
   "metadata": {},
   "source": [
    "* run_epoch: 모델의 학습을 돌림\n",
    "* make_model: 모델을 만듦\n",
    "* NoamOpt: 모델의 옵티마이저\n",
    "* data_gen: 임의의 데이터 생성\n",
    "* Batch: 데이터를 배치화하여 생성\n",
    "* subsequent_mask: mask 생성\n",
    "* Embeddings: 단어 및 문장 임베딩 생성\n",
    "* EncoderDecoder: Encoder와 Decoder 생성\n",
    "* Encoder: Encoder 생성\n",
    "* Decoder: Decoder 생성 \n",
    "* EncoderLayer: Encoder를 구성하는 EncoderLayer 생성\n",
    "* DecoderLayer: Decoder를 구성하는 DecoderLayer 생성 \n",
    "* clones: Layer를 복사\n",
    "* LayerNorm: Layer Normalization\n",
    "* SublayerConnection: Residual Connection\n",
    "* MultiHeadedAttention: Multi-Head Attention\n",
    "* attention: attention\n",
    "* PositionwiseFeedForward: Feed Forward\n",
    "* PositionalEncoding: Positional Encoding\n",
    "* SimpleLossCompute: loss값을 통해 backpropagation진행\n",
    "* loss: loss함수 생성\n",
    "* Generator: Transformer의 output 단 Linear layer와 Softmax함수 생성\n",
    "* LabelSmoothing: Label smoothing"
   ]
  },
  {
   "cell_type": "code",
   "execution_count": 3,
   "metadata": {},
   "outputs": [],
   "source": [
    "import numpy as np\n",
    "import torch\n",
    "import torch.nn as nn \n",
    "import torch.nn.functional as F\n",
    "import math, copy, time\n",
    "from torch.autograd import Variable\n",
    "import matplotlib.pyplot as plt\n",
    "import seaborn\n",
    "seaborn.set_context(context=\"talk\")\n",
    "%matplotlib inline"
   ]
  },
  {
   "cell_type": "code",
   "execution_count": 4,
   "metadata": {},
   "outputs": [],
   "source": [
    "class EncoderDecoder(nn.Module):\n",
    "    \"\"\"A standard Encoder-Decoder architecture. Base for this and many oter models.\"\"\"\n",
    "    def __init__(self, encoder, decoder, src_embed, tgt_embed, generator):\n",
    "        super(EncoderDecoder, self).__init__() ## 부모 클래싀의 생성자를 호출\n",
    "        # super().__init__() # -> python3부터는 이렇게 호출도 가능\n",
    "        self.encoder = encoder\n",
    "        self.decoder = decoder\n",
    "        self.src_embed = src_embed\n",
    "        self.tgt_embed = tgt_embed\n",
    "        self.generator = generator\n",
    "        \n",
    "    def forward(self, src, tgt, src_mask, tgt_mask):\n",
    "        \"\"\"Take in and process masked src and target sequences.\"\"\"\n",
    "        return self.decode(self.encode(src, src_mask), src_mask. tgt, tgt_mask) # encoder 값을 decoder에 넣고있음,\n",
    "    \n",
    "    def encode(self, src, src_mask):\n",
    "        return self.encoder(self.src_embed(src), src_mask) # 자연어를 tensor로 변환하는\n",
    "    \n",
    "    def decode(self, memory, src_mask, tgt, tgt_mask):\n",
    "        return self.decoder(self.tgt_embed(tgt), memory, src_mask, tgt_mask) #메모리는 encoder에서 나온 output을 의미"
   ]
  },
  {
   "cell_type": "code",
   "execution_count": null,
   "metadata": {},
   "outputs": [],
   "source": [
    "# Transforme에서 끝단(Linear -> softmax -> output)\n",
    "class Generator(nn.Module):\n",
    "    \"\"\"Define standard linear + softmax generation step.\"\"\"\n",
    "    def __init__(self, d_model, vocab): # vocab: 단어의 수.(e.g. 11)\n",
    "        super(Generator, self).__init__()\n",
    "        self.proj = nn.Linear(d_model, vocab)\n",
    "        \n",
    "    def forward(self, x):\n",
    "        return F.log_softmax(self.proj(x), dim=-1)"
   ]
  }
 ],
 "metadata": {
  "kernelspec": {
   "display_name": "gpu",
   "language": "python",
   "name": "python3"
  },
  "language_info": {
   "codemirror_mode": {
    "name": "ipython",
    "version": 3
   },
   "file_extension": ".py",
   "mimetype": "text/x-python",
   "name": "python",
   "nbconvert_exporter": "python",
   "pygments_lexer": "ipython3",
   "version": "3.10.18"
  }
 },
 "nbformat": 4,
 "nbformat_minor": 2
}
